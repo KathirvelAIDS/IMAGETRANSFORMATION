{
 "cells": [
  {
   "cell_type": "code",
   "execution_count": 5,
   "id": "adf04084",
   "metadata": {},
   "outputs": [],
   "source": [
    "import cv2\n",
    "import numpy as np\n",
    "img = cv2.imread('ben.jpg',-1)\n",
    "original = cv2.cvtColor(img , cv2.COLOR_BGR2RGB)\n",
    "cv2.imshow('input',original)\n",
    "cv2.waitKey(0)\n",
    "cv2.destroyAllWindows()\n",
    "original.shape\n",
    "row, col, dim =original.shape\n"
   ]
  },
  {
   "cell_type": "code",
   "execution_count": 6,
   "id": "a1576533",
   "metadata": {},
   "outputs": [],
   "source": [
    "\n",
    "translation = np.float32([[1,0,100],[0,1,150],[0,0,1]])\n",
    "translated_image = cv2.warpPerspective(original,translation,(col,row))\n",
    "cv2.imshow('translated_image',translated_image)\n",
    "cv2.waitKey(0)\n",
    "cv2.destroyAllWindows()\n"
   ]
  },
  {
   "cell_type": "code",
   "execution_count": 7,
   "id": "60f6cdd3",
   "metadata": {},
   "outputs": [],
   "source": [
    "shear_x = np.float32([[1,0.7,0],[0,1,0],[0,0,1]])\n",
    "shear_y = np.float32([[1,0,0],[0.3,1,0],[0,0,1]])\n",
    "sheared_x= cv2.warpPerspective(original,shear_x,(col,row))\n",
    "sheared_y = cv2.warpPerspective(original,shear_y,(col,row))\n",
    "cv2.imshow('shear_x',sheared_x)\n",
    "cv2.waitKey(0)\n",
    "cv2.destroyAllWindows()\n",
    "cv2.imshow('shear_y',sheared_y)\n",
    "cv2.waitKey(0)\n",
    "cv2.destroyAllWindows()"
   ]
  },
  {
   "cell_type": "code",
   "execution_count": 8,
   "id": "b2f9f32a",
   "metadata": {},
   "outputs": [],
   "source": [
    "ref_x = np.float32([[1,0,0],[0,-1,row],[0,0,1]])\n",
    "ref_y = np.float32([[-1,0,col],[0,1,0],[0,0,1]])\n",
    "reflect_x= cv2.warpPerspective(original,ref_x,(col,row))\n",
    "reflect_y = cv2.warpPerspective(original,ref_y,(col,row))\n",
    "cv2.imshow('reflected_x',reflect_x)\n",
    "cv2.waitKey(0)\n",
    "cv2.destroyAllWindows()\n",
    "cv2.imshow('reflected_y',reflect_y)\n",
    "cv2.waitKey(0)\n",
    "cv2.destroyAllWindows()"
   ]
  },
  {
   "cell_type": "code",
   "execution_count": 9,
   "id": "185f1ee9",
   "metadata": {},
   "outputs": [],
   "source": [
    "angle = np.radians(15)\n",
    "mat_rotate = np.float32([[np.cos(angle),-\n",
    "(np.sin(angle)),0],[np.sin(angle),np.cos(angle),0],[0,0,1]])\n",
    "rotate_img =cv2.warpPerspective(original,mat_rotate,(col,row))\n",
    "cv2.imshow('rotated',rotate_img)\n",
    "cv2.waitKey(0)\n",
    "cv2.destroyAllWindows()\n"
   ]
  },
  {
   "cell_type": "code",
   "execution_count": 10,
   "id": "da47628a",
   "metadata": {},
   "outputs": [],
   "source": [
    "cropped_img=img[10:500,25:600] \n",
    "cv2.imshow('after_cropping',cropped_img);\n",
    "cv2.waitKey(0)\n",
    "cv2.destroyAllWindows()"
   ]
  },
  {
   "cell_type": "code",
   "execution_count": null,
   "id": "0381055b",
   "metadata": {},
   "outputs": [],
   "source": []
  }
 ],
 "metadata": {
  "kernelspec": {
   "display_name": "Python 3",
   "language": "python",
   "name": "python3"
  },
  "language_info": {
   "codemirror_mode": {
    "name": "ipython",
    "version": 3
   },
   "file_extension": ".py",
   "mimetype": "text/x-python",
   "name": "python",
   "nbconvert_exporter": "python",
   "pygments_lexer": "ipython3",
   "version": "3.8.8"
  }
 },
 "nbformat": 4,
 "nbformat_minor": 5
}
